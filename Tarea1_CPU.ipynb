{
  "nbformat": 4,
  "nbformat_minor": 0,
  "metadata": {
    "colab": {
      "name": "Tarea1_CPU.ipynb",
      "provenance": [],
      "collapsed_sections": [],
      "authorship_tag": "ABX9TyPaRkQ33eO/gfKEofRulAu1",
      "include_colab_link": true
    },
    "kernelspec": {
      "name": "python3",
      "display_name": "Python 3"
    },
    "language_info": {
      "name": "python"
    }
  },
  "cells": [
    {
      "cell_type": "markdown",
      "metadata": {
        "id": "view-in-github",
        "colab_type": "text"
      },
      "source": [
        "<a href=\"https://colab.research.google.com/github/rovargasc/curso_IA/blob/main/Tarea1_CPU.ipynb\" target=\"_parent\"><img src=\"https://colab.research.google.com/assets/colab-badge.svg\" alt=\"Open In Colab\"/></a>"
      ]
    },
    {
      "cell_type": "markdown",
      "source": [
        "### Tarea 1: Replicación de las redes mostradas en el vídeo de Sotaquira\n"
      ],
      "metadata": {
        "id": "mF0dQgICKBMN"
      }
    },
    {
      "cell_type": "markdown",
      "source": [
        "### Usando la CPU"
      ],
      "metadata": {
        "id": "7M27H9DvKa0E"
      }
    },
    {
      "cell_type": "code",
      "source": [
        "## Librerías necesarias\n",
        "import numpy as np\n",
        "import os\n",
        "import gzip"
      ],
      "metadata": {
        "id": "EvJyztK2Kd2M"
      },
      "execution_count": null,
      "outputs": []
    },
    {
      "cell_type": "code",
      "source": [
        "def load_mnist(ruta, tipo = \"train\"):\n",
        "  ruta_categorias = os.path.join(ruta, \"%s-labels-idx1-ubyte.gz\" % tipo)\n",
        "  ruta_imagenes = os.path.join(ruta, \"%s-images-idx3-ubyte.gz\"% tipo)\n",
        "\n",
        "  with gzip.open(ruta_categorias, \"rb\") as rut_cat:\n",
        "    etiquetas = np.frombuffer(rut_cat.read(), dtype = np.uint8, offset = 8)\n",
        "\n",
        "  with gzip.open(ruta_imagenes, \"rb\") as rut_imgs:\n",
        "    imagenes = np.frombuffer(rut_imgs.read(), offset=16).reshape(len(etiquetas), 784)\n",
        "\n",
        "  return imagenes, etiquetas"
      ],
      "metadata": {
        "id": "efC2stehKrst"
      },
      "execution_count": null,
      "outputs": []
    },
    {
      "cell_type": "code",
      "source": [
        "# Estas líneas las dejé comentadas porque no cargué la base de datos así.\n",
        "# Bajé los archivos de keras\n",
        "\n",
        "#from google.colab import drive\n",
        "#drive.mount('/content/gdrive')\n",
        "\n",
        "#ruta = 'gdrive/My Drive/Colab Notebooks/fashion_mnist_data'\n",
        "\n",
        "#X_train, Y_train = load_mnist(ruta, tipo='train')\n",
        "#X_test, Y_test = load_mnist(ruta, tipo='test')"
      ],
      "metadata": {
        "id": "BMFITLjMLdg0"
      },
      "execution_count": null,
      "outputs": []
    },
    {
      "cell_type": "code",
      "source": [
        "# Aquí bajo los datos de keras\n",
        "from keras.datasets import mnist  "
      ],
      "metadata": {
        "id": "LV4ZBOhGOJFV"
      },
      "execution_count": null,
      "outputs": []
    },
    {
      "cell_type": "code",
      "source": [
        "# The MNIST data is split between 60,000 28 x 28 pixel training images and 10,000 28 x 28 pixel images\n",
        "(X_train, Y_train), (X_test, Y_test) = mnist.load_data()\n"
      ],
      "metadata": {
        "id": "Z7Ne-cX_OUN9",
        "colab": {
          "base_uri": "https://localhost:8080/"
        },
        "outputId": "9769f0c5-47f4-4bed-e18d-df43d7588e79"
      },
      "execution_count": null,
      "outputs": [
        {
          "output_type": "stream",
          "name": "stdout",
          "text": [
            "Downloading data from https://storage.googleapis.com/tensorflow/tf-keras-datasets/mnist.npz\n",
            "11493376/11490434 [==============================] - 0s 0us/step\n",
            "11501568/11490434 [==============================] - 0s 0us/step\n"
          ]
        }
      ]
    },
    {
      "cell_type": "markdown",
      "source": [
        "## Ajuste de los datos"
      ],
      "metadata": {
        "id": "6V4c6L01PYdc"
      }
    },
    {
      "cell_type": "code",
      "source": [
        "# Se debe garantizar que el tamaño del dataset sea un múltiplo de 128 , pero esto es para la TPU.  IMPORTANTE.\n",
        "\n",
        "\n",
        "X_train = X_train[0:59904,:]  #El número más cercano a 60000 y que es a la vez múltiplo de 128 es 59904,\n",
        "X_test = X_test[0:9984,:]    # el set de validación tiene originalmente 10000 datos, y lo reajustaremos a un tamaño de 9984.\n",
        "Y_train = Y_train[0:59904]   # El número más cercano a 60000 y que es a la vez múltiplo de 128 es 59904,\n",
        "Y_test = Y_test[0:9984]     # el set de validación tiene originalmente 10000 datos, y lo reajustaremos a un tamaño de 9984.\n",
        "\n",
        "X_train = np.reshape(X_train,(59904,28,28,1)) # con esto se garantiza que cada dato es una imagen de grises de 28 x 28\n",
        "X_test = np.reshape(X_test,(9984,28,28,1))  # con esto se garantiza que cada dato es una imagen de grises de 28 x 28"
      ],
      "metadata": {
        "id": "_HkCob2YOnE9"
      },
      "execution_count": null,
      "outputs": []
    },
    {
      "cell_type": "markdown",
      "source": [
        "### Puesta en marcha del modelo convolucional"
      ],
      "metadata": {
        "id": "CLonYzgCPeGd"
      }
    },
    {
      "cell_type": "code",
      "source": [
        "%tensorflow_version 2.x   # Para garantizar que la versión 2.x sea importada\n",
        "import tensorflow as tf\n",
        "print('Versión de TensorFlow: ' + tf.__version__)\n",
        "tf.random.set_seed(200)  #  garantizo que los valores iniciales sean aleatorios pero los mismos tanto para CPU,GPU y TPU"
      ],
      "metadata": {
        "colab": {
          "base_uri": "https://localhost:8080/"
        },
        "id": "RuXvWMpiPgWF",
        "outputId": "60622399-656f-4716-e8fa-642e9aea762a"
      },
      "execution_count": null,
      "outputs": [
        {
          "output_type": "stream",
          "name": "stdout",
          "text": [
            "`%tensorflow_version` only switches the major version: 1.x or 2.x.\n",
            "You set: `2.x   # Para garantizar que la versión 2.x sea importada`. This will be interpreted as: `2.x`.\n",
            "\n",
            "\n",
            "TensorFlow is already loaded. Please restart the runtime to change versions.\n",
            "Versión de TensorFlow: 2.8.0\n"
          ]
        }
      ]
    },
    {
      "cell_type": "markdown",
      "source": [
        "### Implementación del modelo"
      ],
      "metadata": {
        "id": "4F4vahOadSrA"
      }
    },
    {
      "cell_type": "code",
      "source": [
        "# Primero se hace una normalización (BatchNormalization) para facilitar la\n",
        "# convergencia del modelo. Luego se agregan los filtros convolucionales.\n",
        "# Luego se agrega una capa de max pooling\n",
        "# Luego una capa de dropout para reducir el overfitting del modelo.\n",
        "# La diferencia entre las 3 capas radica en el número de filtros convolucionales\n",
        "# usados: 64, 128 y 256\n",
        "\n",
        "model = tf.keras.models.Sequential()\n",
        "model.add(tf.keras.layers.BatchNormalization(input_shape = X_train.shape[1:]))\n",
        "model.add(tf.keras.layers.Conv2D(64,(5,5), padding = \"same\", activation = \"elu\"))\n",
        "model.add(tf.keras.layers.MaxPooling2D(pool_size = (2,2), strides = (2,2)))\n",
        "model.add(tf.keras.layers.Dropout(0.25))\n",
        "\n",
        "model.add(tf.keras.layers.BatchNormalization(input_shape = X_train.shape[1:]))\n",
        "model.add(tf.keras.layers.Conv2D(128,(5,5), padding = \"same\", activation = \"elu\"))\n",
        "model.add(tf.keras.layers.MaxPooling2D(pool_size = (2,2), strides = (2,2)))\n",
        "model.add(tf.keras.layers.Dropout(0.25))\n",
        "\n",
        "model.add(tf.keras.layers.BatchNormalization(input_shape = X_train.shape[1:]))\n",
        "model.add(tf.keras.layers.Conv2D(256,(5,5), padding = \"same\", activation = \"elu\"))\n",
        "model.add(tf.keras.layers.MaxPooling2D(pool_size = (2,2), strides = (2,2)))\n",
        "model.add(tf.keras.layers.Dropout(0.25))"
      ],
      "metadata": {
        "id": "oylpjULndVwZ"
      },
      "execution_count": null,
      "outputs": []
    },
    {
      "cell_type": "markdown",
      "source": [
        "#### Aplanamiento de los datos, red neuronal con 256 neuronas y función de activación"
      ],
      "metadata": {
        "id": "RModG1hRegIr"
      }
    },
    {
      "cell_type": "code",
      "source": [
        "model.add(tf.keras.layers.Flatten()) # Aplanamiento\n",
        "model.add(tf.keras.layers.Dense(256))\n",
        "model.add(tf.keras.layers.Activation(\"elu\"))\n",
        "# Salida\n",
        "model.add(tf.keras.layers.Dropout(0.5))\n",
        "model.add(tf.keras.layers.Dense(10))\n",
        "model.add(tf.keras.layers.Activation(\"softmax\"))"
      ],
      "metadata": {
        "id": "6_Y2XnjYeoKl"
      },
      "execution_count": null,
      "outputs": []
    },
    {
      "cell_type": "code",
      "source": [
        "## Ahora, antes del ENTRENAMIENTO, compilaremos el modelo. Es decir,\n",
        "# vamos a definir el optimizador a usar (Adam)\n",
        "# la función de error (entropía cruzada)\n",
        "# y la métrica de desempeño (la precisión)\n",
        "\n",
        "model.compile(optimizer = \"adam\", loss = \"sparse_categorical_crossentropy\", metrics = [\"accuracy\"])\n",
        "model.summary()"
      ],
      "metadata": {
        "id": "x1gys0CZfXSx",
        "colab": {
          "base_uri": "https://localhost:8080/"
        },
        "outputId": "2cb15741-86a2-4a03-f353-721515e1779d"
      },
      "execution_count": null,
      "outputs": [
        {
          "output_type": "stream",
          "name": "stdout",
          "text": [
            "Model: \"sequential\"\n",
            "_________________________________________________________________\n",
            " Layer (type)                Output Shape              Param #   \n",
            "=================================================================\n",
            " batch_normalization (BatchN  (None, 28, 28, 1)        4         \n",
            " ormalization)                                                   \n",
            "                                                                 \n",
            " conv2d (Conv2D)             (None, 28, 28, 64)        1664      \n",
            "                                                                 \n",
            " max_pooling2d (MaxPooling2D  (None, 14, 14, 64)       0         \n",
            " )                                                               \n",
            "                                                                 \n",
            " dropout (Dropout)           (None, 14, 14, 64)        0         \n",
            "                                                                 \n",
            " batch_normalization_1 (Batc  (None, 14, 14, 64)       256       \n",
            " hNormalization)                                                 \n",
            "                                                                 \n",
            " conv2d_1 (Conv2D)           (None, 14, 14, 128)       204928    \n",
            "                                                                 \n",
            " max_pooling2d_1 (MaxPooling  (None, 7, 7, 128)        0         \n",
            " 2D)                                                             \n",
            "                                                                 \n",
            " dropout_1 (Dropout)         (None, 7, 7, 128)         0         \n",
            "                                                                 \n",
            " batch_normalization_2 (Batc  (None, 7, 7, 128)        512       \n",
            " hNormalization)                                                 \n",
            "                                                                 \n",
            " conv2d_2 (Conv2D)           (None, 7, 7, 256)         819456    \n",
            "                                                                 \n",
            " max_pooling2d_2 (MaxPooling  (None, 3, 3, 256)        0         \n",
            " 2D)                                                             \n",
            "                                                                 \n",
            " dropout_2 (Dropout)         (None, 3, 3, 256)         0         \n",
            "                                                                 \n",
            " flatten (Flatten)           (None, 2304)              0         \n",
            "                                                                 \n",
            " dense (Dense)               (None, 256)               590080    \n",
            "                                                                 \n",
            " activation (Activation)     (None, 256)               0         \n",
            "                                                                 \n",
            " dropout_3 (Dropout)         (None, 256)               0         \n",
            "                                                                 \n",
            " dense_1 (Dense)             (None, 10)                2570      \n",
            "                                                                 \n",
            " activation_1 (Activation)   (None, 10)                0         \n",
            "                                                                 \n",
            "=================================================================\n",
            "Total params: 1,619,470\n",
            "Trainable params: 1,619,084\n",
            "Non-trainable params: 386\n",
            "_________________________________________________________________\n"
          ]
        }
      ]
    },
    {
      "cell_type": "code",
      "source": [
        "### Se usará la función timeit para almacenar en una variable el tiempo promedio de cada iteración\n",
        "\n",
        "import timeit\n",
        "\n",
        "def entrenamiento_cpu():\n",
        "  with tf.device('/cpu:0'):\n",
        "    ## Este es el verdadero modelo. \n",
        "    model.fit(X_train,Y_train,validation_data=(X_test,Y_test),batch_size=128,epochs=2,verbose=1)\n",
        "  \n",
        "  return None\n",
        "\n",
        "cpu_time = timeit.timeit('entrenamiento_cpu()', number=1, setup='from __main__ import entrenamiento_cpu')"
      ],
      "metadata": {
        "colab": {
          "base_uri": "https://localhost:8080/"
        },
        "id": "X42rxFTNfz5f",
        "outputId": "8e027615-8131-4866-d1d8-8441a21b7a7a"
      },
      "execution_count": null,
      "outputs": [
        {
          "output_type": "stream",
          "name": "stdout",
          "text": [
            "Epoch 1/2\n",
            "468/468 [==============================] - 812s 2s/step - loss: 0.3291 - accuracy: 0.9164 - val_loss: 0.0529 - val_accuracy: 0.9846\n",
            "Epoch 2/2\n",
            "468/468 [==============================] - 807s 2s/step - loss: 0.0967 - accuracy: 0.9734 - val_loss: 0.0385 - val_accuracy: 0.9886\n"
          ]
        }
      ]
    },
    {
      "cell_type": "code",
      "source": [
        "print('Tiempo de entrenamiento ' + str(cpu_time)+ ' segundos')"
      ],
      "metadata": {
        "id": "WCIGHjp8Lz8i",
        "colab": {
          "base_uri": "https://localhost:8080/"
        },
        "outputId": "38ad87a8-8991-42e2-d4e0-1d975911f6a2"
      },
      "execution_count": null,
      "outputs": [
        {
          "output_type": "stream",
          "name": "stdout",
          "text": [
            "Tiempo de entrenamiento 1643.078929355 segundos\n"
          ]
        }
      ]
    }
  ]
}