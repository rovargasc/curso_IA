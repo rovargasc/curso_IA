{
  "nbformat": 4,
  "nbformat_minor": 0,
  "metadata": {
    "colab": {
      "name": "Cancer_seno_subclassing.ipynb",
      "provenance": []
    },
    "kernelspec": {
      "name": "python3",
      "display_name": "Python 3"
    },
    "language_info": {
      "name": "python"
    }
  },
  "cells": [
    {
      "cell_type": "markdown",
      "source": [
        "En este cuaderno se reescribe el código propuesto para clasificación de cáncer de seno usando subclassing de Keras"
      ],
      "metadata": {
        "id": "9bv9SAxnLw0H"
      }
    },
    {
      "cell_type": "code",
      "execution_count": 1,
      "metadata": {
        "id": "sWWsnk4JLHwM"
      },
      "outputs": [],
      "source": [
        "from __future__ import absolute_import, division, print_function, unicode_literals\n",
        "\n",
        "import pandas as pd\n",
        "import matplotlib.pyplot as plt\n",
        "import seaborn as sns\n",
        "import tensorflow as tf\n",
        "\n",
        "from tensorflow.keras.models import Sequential\n",
        "from tensorflow.keras import layers\n",
        "from tensorflow.keras.utils import plot_model\n",
        "\n",
        "from sklearn.preprocessing import LabelEncoder\n",
        "from sklearn.model_selection import train_test_split\n",
        "from sklearn.preprocessing import StandardScaler\n",
        "from sklearn.metrics import confusion_matrix"
      ]
    },
    {
      "cell_type": "markdown",
      "source": [
        "Cargando el conjunto de datos"
      ],
      "metadata": {
        "id": "PsssY5ZWLtnW"
      }
    },
    {
      "cell_type": "code",
      "source": [
        "from google.colab import drive\n",
        "drive.mount('/content/gdrive',force_remount=True)\n",
        "\n",
        "ruta='gdrive/My Drive/Maestría/Inteligencia Artificial/'"
      ],
      "metadata": {
        "colab": {
          "base_uri": "https://localhost:8080/"
        },
        "id": "oD9DYBaINP-n",
        "outputId": "a13b9ff8-b57a-400b-f1da-ca3da9c5829d"
      },
      "execution_count": 2,
      "outputs": [
        {
          "output_type": "stream",
          "name": "stdout",
          "text": [
            "Mounted at /content/gdrive\n"
          ]
        }
      ]
    },
    {
      "cell_type": "code",
      "source": [
        "data = pd.read_csv(ruta+\"Cancer_data.csv\")\n",
        "del data['Unnamed: 32']"
      ],
      "metadata": {
        "id": "7fEMbuo0ORB_"
      },
      "execution_count": 3,
      "outputs": []
    },
    {
      "cell_type": "code",
      "source": [
        "x = data.iloc[:,2:].values\n",
        "y = data.iloc[:,1].values"
      ],
      "metadata": {
        "id": "2cQsmndmPErg"
      },
      "execution_count": 4,
      "outputs": []
    },
    {
      "cell_type": "code",
      "source": [
        "labelencoder_y = LabelEncoder()\n",
        "y = labelencoder_y.fit_transform(y)"
      ],
      "metadata": {
        "id": "JijhhbcvPHrg"
      },
      "execution_count": 5,
      "outputs": []
    },
    {
      "cell_type": "code",
      "source": [
        "x_train, x_test, y_train, y_test = train_test_split(x, y, test_size = 0.1, random_state = 12)"
      ],
      "metadata": {
        "id": "OC1lH6uRPJqQ"
      },
      "execution_count": 6,
      "outputs": []
    },
    {
      "cell_type": "code",
      "source": [
        "x_test.shape"
      ],
      "metadata": {
        "colab": {
          "base_uri": "https://localhost:8080/"
        },
        "id": "HNJPu7xUPL2k",
        "outputId": "935d0ea2-aa0f-4576-b122-c9a1c9aafd52"
      },
      "execution_count": 7,
      "outputs": [
        {
          "output_type": "execute_result",
          "data": {
            "text/plain": [
              "(57, 30)"
            ]
          },
          "metadata": {},
          "execution_count": 7
        }
      ]
    },
    {
      "cell_type": "code",
      "source": [
        "sc = StandardScaler()\n",
        "x_train = sc.fit_transform(x_train)\n",
        "x_test = sc.transform(x_test)"
      ],
      "metadata": {
        "id": "r56e-kaFPfK4"
      },
      "execution_count": 8,
      "outputs": []
    },
    {
      "cell_type": "code",
      "source": [
        "class Block(layers.Layer):\n",
        "  def __init__(self, out_channels,activation):\n",
        "    super(Block, self).__init__()\n",
        "    self.dens = layers.Dense(out_channels,activation,input_shape=(30,))\n",
        "    self.drop = layers.Dropout(0.1)\n",
        "    \n",
        "\n",
        "  def call(self, input_tensor):\n",
        "    x = self.dens(input_tensor)\n",
        "    x = tf.nn.relu(x)\n",
        "    return x"
      ],
      "metadata": {
        "id": "TZjU8NcwPh0Y"
      },
      "execution_count": 9,
      "outputs": []
    },
    {
      "cell_type": "code",
      "source": [
        "classifier = tf.keras.Sequential(\n",
        "    [\n",
        "     Block(16,\"relu\"),\n",
        "     Block(16,\"relu\"),\n",
        "     layers.Dense(1,activation='sigmoid')\n",
        "    ]\n",
        ")\n"
      ],
      "metadata": {
        "id": "6lYUj4QLTaoh"
      },
      "execution_count": 10,
      "outputs": []
    },
    {
      "cell_type": "code",
      "source": [
        "classifier.compile(\n",
        "    optimizer = tf.keras.optimizers.Adam(),\n",
        "    loss = tf.keras.losses.BinaryCrossentropy(),\n",
        "    metrics = [\"accuracy\"]\n",
        ")"
      ],
      "metadata": {
        "id": "2mrrUs01UzOJ"
      },
      "execution_count": 11,
      "outputs": []
    },
    {
      "cell_type": "code",
      "source": [
        "history = classifier.fit(x_train, y_train, batch_size=32, epochs=100,validation_split = 0.2)"
      ],
      "metadata": {
        "colab": {
          "base_uri": "https://localhost:8080/"
        },
        "id": "3rNbhC2OVYIq",
        "outputId": "a6caca79-0dc8-4be5-f347-797b0da183a5"
      },
      "execution_count": 12,
      "outputs": [
        {
          "output_type": "stream",
          "name": "stdout",
          "text": [
            "Epoch 1/100\n",
            "13/13 [==============================] - 2s 29ms/step - loss: 0.6095 - accuracy: 0.6650 - val_loss: 0.5185 - val_accuracy: 0.7961\n",
            "Epoch 2/100\n",
            "13/13 [==============================] - 0s 9ms/step - loss: 0.4765 - accuracy: 0.8264 - val_loss: 0.4081 - val_accuracy: 0.8835\n",
            "Epoch 3/100\n",
            "13/13 [==============================] - 0s 7ms/step - loss: 0.3831 - accuracy: 0.8875 - val_loss: 0.3285 - val_accuracy: 0.9126\n",
            "Epoch 4/100\n",
            "13/13 [==============================] - 0s 9ms/step - loss: 0.3114 - accuracy: 0.9291 - val_loss: 0.2701 - val_accuracy: 0.9320\n",
            "Epoch 5/100\n",
            "13/13 [==============================] - 0s 8ms/step - loss: 0.2582 - accuracy: 0.9487 - val_loss: 0.2270 - val_accuracy: 0.9320\n",
            "Epoch 6/100\n",
            "13/13 [==============================] - 0s 12ms/step - loss: 0.2157 - accuracy: 0.9511 - val_loss: 0.1952 - val_accuracy: 0.9515\n",
            "Epoch 7/100\n",
            "13/13 [==============================] - 0s 8ms/step - loss: 0.1840 - accuracy: 0.9584 - val_loss: 0.1721 - val_accuracy: 0.9515\n",
            "Epoch 8/100\n",
            "13/13 [==============================] - 0s 8ms/step - loss: 0.1603 - accuracy: 0.9609 - val_loss: 0.1540 - val_accuracy: 0.9515\n",
            "Epoch 9/100\n",
            "13/13 [==============================] - 0s 9ms/step - loss: 0.1411 - accuracy: 0.9633 - val_loss: 0.1406 - val_accuracy: 0.9612\n",
            "Epoch 10/100\n",
            "13/13 [==============================] - 0s 9ms/step - loss: 0.1268 - accuracy: 0.9658 - val_loss: 0.1296 - val_accuracy: 0.9515\n",
            "Epoch 11/100\n",
            "13/13 [==============================] - 0s 10ms/step - loss: 0.1149 - accuracy: 0.9658 - val_loss: 0.1212 - val_accuracy: 0.9515\n",
            "Epoch 12/100\n",
            "13/13 [==============================] - 0s 10ms/step - loss: 0.1056 - accuracy: 0.9682 - val_loss: 0.1146 - val_accuracy: 0.9709\n",
            "Epoch 13/100\n",
            "13/13 [==============================] - 0s 8ms/step - loss: 0.0976 - accuracy: 0.9707 - val_loss: 0.1091 - val_accuracy: 0.9709\n",
            "Epoch 14/100\n",
            "13/13 [==============================] - 0s 10ms/step - loss: 0.0913 - accuracy: 0.9756 - val_loss: 0.1038 - val_accuracy: 0.9709\n",
            "Epoch 15/100\n",
            "13/13 [==============================] - 0s 9ms/step - loss: 0.0858 - accuracy: 0.9756 - val_loss: 0.1004 - val_accuracy: 0.9709\n",
            "Epoch 16/100\n",
            "13/13 [==============================] - 0s 7ms/step - loss: 0.0813 - accuracy: 0.9756 - val_loss: 0.0968 - val_accuracy: 0.9709\n",
            "Epoch 17/100\n",
            "13/13 [==============================] - 0s 8ms/step - loss: 0.0768 - accuracy: 0.9780 - val_loss: 0.0936 - val_accuracy: 0.9709\n",
            "Epoch 18/100\n",
            "13/13 [==============================] - 0s 7ms/step - loss: 0.0730 - accuracy: 0.9804 - val_loss: 0.0915 - val_accuracy: 0.9709\n",
            "Epoch 19/100\n",
            "13/13 [==============================] - 0s 9ms/step - loss: 0.0698 - accuracy: 0.9829 - val_loss: 0.0886 - val_accuracy: 0.9709\n",
            "Epoch 20/100\n",
            "13/13 [==============================] - 0s 8ms/step - loss: 0.0672 - accuracy: 0.9829 - val_loss: 0.0871 - val_accuracy: 0.9709\n",
            "Epoch 21/100\n",
            "13/13 [==============================] - 0s 16ms/step - loss: 0.0643 - accuracy: 0.9829 - val_loss: 0.0855 - val_accuracy: 0.9709\n",
            "Epoch 22/100\n",
            "13/13 [==============================] - 0s 8ms/step - loss: 0.0618 - accuracy: 0.9829 - val_loss: 0.0832 - val_accuracy: 0.9709\n",
            "Epoch 23/100\n",
            "13/13 [==============================] - 0s 15ms/step - loss: 0.0596 - accuracy: 0.9829 - val_loss: 0.0820 - val_accuracy: 0.9709\n",
            "Epoch 24/100\n",
            "13/13 [==============================] - 0s 7ms/step - loss: 0.0575 - accuracy: 0.9853 - val_loss: 0.0796 - val_accuracy: 0.9709\n",
            "Epoch 25/100\n",
            "13/13 [==============================] - 0s 7ms/step - loss: 0.0558 - accuracy: 0.9853 - val_loss: 0.0781 - val_accuracy: 0.9806\n",
            "Epoch 26/100\n",
            "13/13 [==============================] - 0s 11ms/step - loss: 0.0539 - accuracy: 0.9878 - val_loss: 0.0764 - val_accuracy: 0.9806\n",
            "Epoch 27/100\n",
            "13/13 [==============================] - 0s 13ms/step - loss: 0.0523 - accuracy: 0.9878 - val_loss: 0.0753 - val_accuracy: 0.9806\n",
            "Epoch 28/100\n",
            "13/13 [==============================] - 0s 13ms/step - loss: 0.0507 - accuracy: 0.9878 - val_loss: 0.0739 - val_accuracy: 0.9806\n",
            "Epoch 29/100\n",
            "13/13 [==============================] - 0s 10ms/step - loss: 0.0493 - accuracy: 0.9878 - val_loss: 0.0731 - val_accuracy: 0.9806\n",
            "Epoch 30/100\n",
            "13/13 [==============================] - 0s 23ms/step - loss: 0.0481 - accuracy: 0.9878 - val_loss: 0.0717 - val_accuracy: 0.9806\n",
            "Epoch 31/100\n",
            "13/13 [==============================] - 0s 11ms/step - loss: 0.0468 - accuracy: 0.9878 - val_loss: 0.0699 - val_accuracy: 0.9806\n",
            "Epoch 32/100\n",
            "13/13 [==============================] - 0s 23ms/step - loss: 0.0460 - accuracy: 0.9878 - val_loss: 0.0696 - val_accuracy: 0.9806\n",
            "Epoch 33/100\n",
            "13/13 [==============================] - 0s 14ms/step - loss: 0.0444 - accuracy: 0.9878 - val_loss: 0.0684 - val_accuracy: 0.9806\n",
            "Epoch 34/100\n",
            "13/13 [==============================] - 0s 16ms/step - loss: 0.0436 - accuracy: 0.9878 - val_loss: 0.0675 - val_accuracy: 0.9806\n",
            "Epoch 35/100\n",
            "13/13 [==============================] - 0s 19ms/step - loss: 0.0424 - accuracy: 0.9878 - val_loss: 0.0661 - val_accuracy: 0.9806\n",
            "Epoch 36/100\n",
            "13/13 [==============================] - 0s 12ms/step - loss: 0.0415 - accuracy: 0.9878 - val_loss: 0.0658 - val_accuracy: 0.9806\n",
            "Epoch 37/100\n",
            "13/13 [==============================] - 0s 14ms/step - loss: 0.0406 - accuracy: 0.9878 - val_loss: 0.0643 - val_accuracy: 0.9806\n",
            "Epoch 38/100\n",
            "13/13 [==============================] - 0s 8ms/step - loss: 0.0397 - accuracy: 0.9878 - val_loss: 0.0637 - val_accuracy: 0.9806\n",
            "Epoch 39/100\n",
            "13/13 [==============================] - 0s 7ms/step - loss: 0.0386 - accuracy: 0.9878 - val_loss: 0.0633 - val_accuracy: 0.9806\n",
            "Epoch 40/100\n",
            "13/13 [==============================] - 0s 9ms/step - loss: 0.0378 - accuracy: 0.9902 - val_loss: 0.0625 - val_accuracy: 0.9806\n",
            "Epoch 41/100\n",
            "13/13 [==============================] - 0s 14ms/step - loss: 0.0372 - accuracy: 0.9902 - val_loss: 0.0622 - val_accuracy: 0.9806\n",
            "Epoch 42/100\n",
            "13/13 [==============================] - 0s 9ms/step - loss: 0.0363 - accuracy: 0.9902 - val_loss: 0.0610 - val_accuracy: 0.9806\n",
            "Epoch 43/100\n",
            "13/13 [==============================] - 0s 17ms/step - loss: 0.0355 - accuracy: 0.9902 - val_loss: 0.0614 - val_accuracy: 0.9806\n",
            "Epoch 44/100\n",
            "13/13 [==============================] - 0s 17ms/step - loss: 0.0347 - accuracy: 0.9902 - val_loss: 0.0601 - val_accuracy: 0.9806\n",
            "Epoch 45/100\n",
            "13/13 [==============================] - 0s 15ms/step - loss: 0.0339 - accuracy: 0.9902 - val_loss: 0.0597 - val_accuracy: 0.9806\n",
            "Epoch 46/100\n",
            "13/13 [==============================] - 0s 10ms/step - loss: 0.0332 - accuracy: 0.9927 - val_loss: 0.0592 - val_accuracy: 0.9806\n",
            "Epoch 47/100\n",
            "13/13 [==============================] - 0s 8ms/step - loss: 0.0326 - accuracy: 0.9927 - val_loss: 0.0592 - val_accuracy: 0.9806\n",
            "Epoch 48/100\n",
            "13/13 [==============================] - 0s 20ms/step - loss: 0.0317 - accuracy: 0.9927 - val_loss: 0.0583 - val_accuracy: 0.9806\n",
            "Epoch 49/100\n",
            "13/13 [==============================] - 0s 13ms/step - loss: 0.0309 - accuracy: 0.9927 - val_loss: 0.0583 - val_accuracy: 0.9806\n",
            "Epoch 50/100\n",
            "13/13 [==============================] - 0s 11ms/step - loss: 0.0303 - accuracy: 0.9927 - val_loss: 0.0584 - val_accuracy: 0.9806\n",
            "Epoch 51/100\n",
            "13/13 [==============================] - 0s 12ms/step - loss: 0.0295 - accuracy: 0.9927 - val_loss: 0.0576 - val_accuracy: 0.9806\n",
            "Epoch 52/100\n",
            "13/13 [==============================] - 0s 17ms/step - loss: 0.0289 - accuracy: 0.9927 - val_loss: 0.0575 - val_accuracy: 0.9806\n",
            "Epoch 53/100\n",
            "13/13 [==============================] - 0s 9ms/step - loss: 0.0283 - accuracy: 0.9927 - val_loss: 0.0575 - val_accuracy: 0.9806\n",
            "Epoch 54/100\n",
            "13/13 [==============================] - 0s 13ms/step - loss: 0.0275 - accuracy: 0.9927 - val_loss: 0.0577 - val_accuracy: 0.9806\n",
            "Epoch 55/100\n",
            "13/13 [==============================] - 0s 10ms/step - loss: 0.0269 - accuracy: 0.9927 - val_loss: 0.0582 - val_accuracy: 0.9806\n",
            "Epoch 56/100\n",
            "13/13 [==============================] - 0s 10ms/step - loss: 0.0261 - accuracy: 0.9927 - val_loss: 0.0574 - val_accuracy: 0.9806\n",
            "Epoch 57/100\n",
            "13/13 [==============================] - 0s 13ms/step - loss: 0.0257 - accuracy: 0.9927 - val_loss: 0.0580 - val_accuracy: 0.9806\n",
            "Epoch 58/100\n",
            "13/13 [==============================] - 0s 10ms/step - loss: 0.0249 - accuracy: 0.9951 - val_loss: 0.0575 - val_accuracy: 0.9806\n",
            "Epoch 59/100\n",
            "13/13 [==============================] - 0s 10ms/step - loss: 0.0243 - accuracy: 0.9951 - val_loss: 0.0572 - val_accuracy: 0.9806\n",
            "Epoch 60/100\n",
            "13/13 [==============================] - 0s 8ms/step - loss: 0.0239 - accuracy: 0.9951 - val_loss: 0.0579 - val_accuracy: 0.9806\n",
            "Epoch 61/100\n",
            "13/13 [==============================] - 0s 6ms/step - loss: 0.0232 - accuracy: 0.9951 - val_loss: 0.0575 - val_accuracy: 0.9806\n",
            "Epoch 62/100\n",
            "13/13 [==============================] - 0s 11ms/step - loss: 0.0225 - accuracy: 0.9951 - val_loss: 0.0585 - val_accuracy: 0.9806\n",
            "Epoch 63/100\n",
            "13/13 [==============================] - 0s 11ms/step - loss: 0.0220 - accuracy: 0.9951 - val_loss: 0.0587 - val_accuracy: 0.9806\n",
            "Epoch 64/100\n",
            "13/13 [==============================] - 0s 8ms/step - loss: 0.0214 - accuracy: 0.9951 - val_loss: 0.0583 - val_accuracy: 0.9806\n",
            "Epoch 65/100\n",
            "13/13 [==============================] - 0s 21ms/step - loss: 0.0208 - accuracy: 0.9951 - val_loss: 0.0579 - val_accuracy: 0.9806\n",
            "Epoch 66/100\n",
            "13/13 [==============================] - 0s 16ms/step - loss: 0.0204 - accuracy: 0.9951 - val_loss: 0.0595 - val_accuracy: 0.9709\n",
            "Epoch 67/100\n",
            "13/13 [==============================] - 0s 23ms/step - loss: 0.0198 - accuracy: 0.9951 - val_loss: 0.0601 - val_accuracy: 0.9709\n",
            "Epoch 68/100\n",
            "13/13 [==============================] - 0s 17ms/step - loss: 0.0193 - accuracy: 0.9951 - val_loss: 0.0576 - val_accuracy: 0.9806\n",
            "Epoch 69/100\n",
            "13/13 [==============================] - 0s 20ms/step - loss: 0.0189 - accuracy: 0.9951 - val_loss: 0.0586 - val_accuracy: 0.9806\n",
            "Epoch 70/100\n",
            "13/13 [==============================] - 0s 9ms/step - loss: 0.0183 - accuracy: 0.9951 - val_loss: 0.0601 - val_accuracy: 0.9709\n",
            "Epoch 71/100\n",
            "13/13 [==============================] - 0s 16ms/step - loss: 0.0179 - accuracy: 0.9951 - val_loss: 0.0605 - val_accuracy: 0.9709\n",
            "Epoch 72/100\n",
            "13/13 [==============================] - 0s 11ms/step - loss: 0.0176 - accuracy: 0.9951 - val_loss: 0.0601 - val_accuracy: 0.9709\n",
            "Epoch 73/100\n",
            "13/13 [==============================] - 0s 9ms/step - loss: 0.0172 - accuracy: 0.9951 - val_loss: 0.0630 - val_accuracy: 0.9709\n",
            "Epoch 74/100\n",
            "13/13 [==============================] - 0s 8ms/step - loss: 0.0167 - accuracy: 0.9951 - val_loss: 0.0640 - val_accuracy: 0.9709\n",
            "Epoch 75/100\n",
            "13/13 [==============================] - 0s 11ms/step - loss: 0.0162 - accuracy: 0.9951 - val_loss: 0.0636 - val_accuracy: 0.9709\n",
            "Epoch 76/100\n",
            "13/13 [==============================] - 0s 11ms/step - loss: 0.0157 - accuracy: 0.9951 - val_loss: 0.0627 - val_accuracy: 0.9709\n",
            "Epoch 77/100\n",
            "13/13 [==============================] - 0s 9ms/step - loss: 0.0154 - accuracy: 0.9951 - val_loss: 0.0631 - val_accuracy: 0.9709\n",
            "Epoch 78/100\n",
            "13/13 [==============================] - 0s 9ms/step - loss: 0.0152 - accuracy: 0.9951 - val_loss: 0.0658 - val_accuracy: 0.9709\n",
            "Epoch 79/100\n",
            "13/13 [==============================] - 0s 9ms/step - loss: 0.0147 - accuracy: 0.9951 - val_loss: 0.0647 - val_accuracy: 0.9709\n",
            "Epoch 80/100\n",
            "13/13 [==============================] - 0s 11ms/step - loss: 0.0143 - accuracy: 0.9951 - val_loss: 0.0659 - val_accuracy: 0.9709\n",
            "Epoch 81/100\n",
            "13/13 [==============================] - 0s 7ms/step - loss: 0.0140 - accuracy: 0.9951 - val_loss: 0.0668 - val_accuracy: 0.9709\n",
            "Epoch 82/100\n",
            "13/13 [==============================] - 0s 13ms/step - loss: 0.0137 - accuracy: 0.9951 - val_loss: 0.0675 - val_accuracy: 0.9709\n",
            "Epoch 83/100\n",
            "13/13 [==============================] - 0s 12ms/step - loss: 0.0134 - accuracy: 0.9951 - val_loss: 0.0679 - val_accuracy: 0.9709\n",
            "Epoch 84/100\n",
            "13/13 [==============================] - 0s 8ms/step - loss: 0.0129 - accuracy: 0.9951 - val_loss: 0.0663 - val_accuracy: 0.9709\n",
            "Epoch 85/100\n",
            "13/13 [==============================] - 0s 8ms/step - loss: 0.0125 - accuracy: 0.9951 - val_loss: 0.0674 - val_accuracy: 0.9709\n",
            "Epoch 86/100\n",
            "13/13 [==============================] - 0s 7ms/step - loss: 0.0124 - accuracy: 0.9951 - val_loss: 0.0707 - val_accuracy: 0.9709\n",
            "Epoch 87/100\n",
            "13/13 [==============================] - 0s 10ms/step - loss: 0.0120 - accuracy: 0.9951 - val_loss: 0.0700 - val_accuracy: 0.9709\n",
            "Epoch 88/100\n",
            "13/13 [==============================] - 0s 7ms/step - loss: 0.0116 - accuracy: 0.9951 - val_loss: 0.0691 - val_accuracy: 0.9709\n",
            "Epoch 89/100\n",
            "13/13 [==============================] - 0s 13ms/step - loss: 0.0112 - accuracy: 0.9951 - val_loss: 0.0699 - val_accuracy: 0.9709\n",
            "Epoch 90/100\n",
            "13/13 [==============================] - 0s 10ms/step - loss: 0.0110 - accuracy: 0.9951 - val_loss: 0.0710 - val_accuracy: 0.9709\n",
            "Epoch 91/100\n",
            "13/13 [==============================] - 0s 9ms/step - loss: 0.0106 - accuracy: 0.9976 - val_loss: 0.0721 - val_accuracy: 0.9709\n",
            "Epoch 92/100\n",
            "13/13 [==============================] - 0s 8ms/step - loss: 0.0104 - accuracy: 0.9976 - val_loss: 0.0721 - val_accuracy: 0.9709\n",
            "Epoch 93/100\n",
            "13/13 [==============================] - 0s 11ms/step - loss: 0.0101 - accuracy: 0.9976 - val_loss: 0.0735 - val_accuracy: 0.9709\n",
            "Epoch 94/100\n",
            "13/13 [==============================] - 0s 11ms/step - loss: 0.0098 - accuracy: 0.9976 - val_loss: 0.0734 - val_accuracy: 0.9709\n",
            "Epoch 95/100\n",
            "13/13 [==============================] - 0s 11ms/step - loss: 0.0096 - accuracy: 0.9976 - val_loss: 0.0754 - val_accuracy: 0.9709\n",
            "Epoch 96/100\n",
            "13/13 [==============================] - 0s 8ms/step - loss: 0.0093 - accuracy: 0.9976 - val_loss: 0.0722 - val_accuracy: 0.9709\n",
            "Epoch 97/100\n",
            "13/13 [==============================] - 0s 9ms/step - loss: 0.0090 - accuracy: 0.9976 - val_loss: 0.0745 - val_accuracy: 0.9612\n",
            "Epoch 98/100\n",
            "13/13 [==============================] - 0s 13ms/step - loss: 0.0087 - accuracy: 0.9976 - val_loss: 0.0771 - val_accuracy: 0.9612\n",
            "Epoch 99/100\n",
            "13/13 [==============================] - 0s 11ms/step - loss: 0.0085 - accuracy: 0.9976 - val_loss: 0.0764 - val_accuracy: 0.9612\n",
            "Epoch 100/100\n",
            "13/13 [==============================] - 0s 9ms/step - loss: 0.0083 - accuracy: 0.9976 - val_loss: 0.0774 - val_accuracy: 0.9612\n"
          ]
        }
      ]
    },
    {
      "cell_type": "code",
      "source": [
        "# Predicting the Test set results\n",
        "y_pred = classifier.predict(x_test)\n",
        "#y_pred = (y_pred > 0.5)\n",
        "y_pred[y_pred > 0.5] = 1\n",
        "y_pred[y_pred <=0.5] = 0"
      ],
      "metadata": {
        "id": "CVNCRnIVWvAK"
      },
      "execution_count": 13,
      "outputs": []
    },
    {
      "cell_type": "code",
      "source": [
        "cm = confusion_matrix(y_test, y_pred)"
      ],
      "metadata": {
        "id": "Uc4-HGJJVm8B"
      },
      "execution_count": 14,
      "outputs": []
    },
    {
      "cell_type": "code",
      "source": [
        "print(\"Our accuracy is {}%\".format(((cm[0][0] + cm[1][1])/y_test.shape[0])*100))"
      ],
      "metadata": {
        "colab": {
          "base_uri": "https://localhost:8080/"
        },
        "id": "Fdo4WcpzVrWR",
        "outputId": "1573d501-6a66-437d-cd03-f19c8286d5de"
      },
      "execution_count": 15,
      "outputs": [
        {
          "output_type": "stream",
          "name": "stdout",
          "text": [
            "Our accuracy is 98.24561403508771%\n"
          ]
        }
      ]
    },
    {
      "cell_type": "code",
      "source": [
        "sns.heatmap(cm,annot=True)\n",
        "plt.savefig('h.png')"
      ],
      "metadata": {
        "colab": {
          "base_uri": "https://localhost:8080/",
          "height": 265
        },
        "id": "bpuvrVcDVtQ5",
        "outputId": "d854e0f8-2a10-4018-9b82-7bafe6f921d8"
      },
      "execution_count": 16,
      "outputs": [
        {
          "output_type": "display_data",
          "data": {
            "text/plain": [
              "<Figure size 432x288 with 2 Axes>"
            ],
            "image/png": "[encoded data removed]"
          },
          "metadata": {
            "needs_background": "light"
          }
        }
      ]
    },
    {
      "cell_type": "code",
      "source": [
        "def plot_metric(history, metric):\n",
        "    train_metrics = history.history[metric]\n",
        "    val_metrics = history.history['val_'+metric]\n",
        "    epochs = range(1, len(train_metrics) + 1)\n",
        "    plt.plot(epochs, train_metrics, 'bo--')\n",
        "    plt.plot(epochs, val_metrics, 'ro-')\n",
        "    plt.title('Entrenamiento y validación '+ metric)\n",
        "    plt.xlabel(\"Epochs\")\n",
        "    plt.ylabel(metric)\n",
        "    plt.legend([\"train_\"+metric, 'val_'+metric])\n",
        "    plt.show()"
      ],
      "metadata": {
        "id": "P_MWK6f5VxWB"
      },
      "execution_count": 17,
      "outputs": []
    },
    {
      "cell_type": "code",
      "source": [
        "plot_metric(history, 'loss')"
      ],
      "metadata": {
        "colab": {
          "base_uri": "https://localhost:8080/",
          "height": 295
        },
        "id": "3YTMrIxYVy16",
        "outputId": "ff9fa902-86b5-45e5-a814-46255af2e7ca"
      },
      "execution_count": 18,
      "outputs": [
        {
          "output_type": "display_data",
          "data": {
            "text/plain": [
              "<Figure size 432x288 with 1 Axes>"
            ],
            "image/png": "[encoded data removed]"
          },
          "metadata": {
            "needs_background": "light"
          }
        }
      ]
    },
    {
      "cell_type": "code",
      "source": [
        "plot_metric(history, 'accuracy')"
      ],
      "metadata": {
        "colab": {
          "base_uri": "https://localhost:8080/",
          "height": 295
        },
        "id": "gbcEYDUCWDxb",
        "outputId": "de7f6f76-9485-4751-a363-3481a9c4184c"
      },
      "execution_count": 19,
      "outputs": [
        {
          "output_type": "display_data",
          "data": {
            "text/plain": [
              "<Figure size 432x288 with 1 Axes>"
            ],
            "image/png": "[encoded data removed]"
          },
          "metadata": {
            "needs_background": "light"
          }
        }
      ]
    }
  ]
}